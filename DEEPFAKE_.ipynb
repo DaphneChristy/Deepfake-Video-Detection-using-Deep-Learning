{
  "nbformat": 4,
  "nbformat_minor": 0,
  "metadata": {
    "colab": {
      "provenance": []
    },
    "kernelspec": {
      "name": "python3",
      "display_name": "Python 3"
    },
    "language_info": {
      "name": "python"
    }
  },
  "cells": [
    {
      "cell_type": "code",
      "execution_count": 1,
      "metadata": {
        "colab": {
          "base_uri": "https://localhost:8080/"
        },
        "id": "btx7GSReQ_F9",
        "outputId": "46526411-b478-4cd5-d6f0-364c9120385e"
      },
      "outputs": [
        {
          "output_type": "stream",
          "name": "stdout",
          "text": [
            "⚠️ No trained model found. Building a new one...\n",
            "Downloading data from https://storage.googleapis.com/tensorflow/keras-applications/xception/xception_weights_tf_dim_ordering_tf_kernels_notop.h5\n",
            "\u001b[1m83683744/83683744\u001b[0m \u001b[32m━━━━━━━━━━━━━━━━━━━━\u001b[0m\u001b[37m\u001b[0m \u001b[1m0s\u001b[0m 0us/step\n",
            "\n",
            "🎬 Analyzing video: test_video.mp4\n",
            "\n",
            "Final Verdict: Error: No frames extracted!\n"
          ]
        }
      ],
      "source": [
        "# deepfake_video_detection.py\n",
        "\"\"\"\n",
        "Title: Deepfake Video Detection using Deep Learning\n",
        "Author: [Your Name]\n",
        "Description:\n",
        "A deep learning-based system for detecting AI-generated or manipulated videos.\n",
        "This project analyzes facial landmarks, blinking patterns, and pixel-level\n",
        "irregularities using CNN-based models to identify deepfakes.\n",
        "\"\"\"\n",
        "\n",
        "import cv2\n",
        "import numpy as np\n",
        "import os\n",
        "from tensorflow.keras.applications import Xception\n",
        "from tensorflow.keras.models import Model, load_model\n",
        "from tensorflow.keras.layers import Dense, GlobalAveragePooling2D, Dropout\n",
        "from tensorflow.keras.preprocessing.image import img_to_array\n",
        "\n",
        "# ================================\n",
        "# 1️⃣ MODEL CREATION / LOADING\n",
        "# ================================\n",
        "def build_model():\n",
        "    \"\"\"Builds an Xception-based deepfake detection model.\"\"\"\n",
        "    base_model = Xception(weights='imagenet', include_top=False, input_shape=(224, 224, 3))\n",
        "    x = GlobalAveragePooling2D()(base_model.output)\n",
        "    x = Dropout(0.4)(x)\n",
        "    x = Dense(256, activation='relu')(x)\n",
        "    x = Dropout(0.3)(x)\n",
        "    output = Dense(1, activation='sigmoid')(x)\n",
        "    model = Model(inputs=base_model.input, outputs=output)\n",
        "    return model\n",
        "\n",
        "def load_trained_model(model_path='deepfake_detector_model.h5'):\n",
        "    \"\"\"Loads a pre-trained deepfake detection model.\"\"\"\n",
        "    if os.path.exists(model_path):\n",
        "        print(\"✅ Loaded pre-trained model successfully!\")\n",
        "        return load_model(model_path)\n",
        "    else:\n",
        "        print(\"⚠️ No trained model found. Building a new one...\")\n",
        "        return build_model()\n",
        "\n",
        "# ================================\n",
        "# 2️⃣ FRAME EXTRACTION\n",
        "# ================================\n",
        "def extract_frames(video_path, max_frames=50):\n",
        "    \"\"\"Extracts frames from a given video file.\"\"\"\n",
        "    cap = cv2.VideoCapture(video_path)\n",
        "    frames = []\n",
        "    frame_count = 0\n",
        "    while cap.isOpened() and frame_count < max_frames:\n",
        "        ret, frame = cap.read()\n",
        "        if not ret:\n",
        "            break\n",
        "        frame = cv2.resize(frame, (224, 224))\n",
        "        frame = img_to_array(frame) / 255.0\n",
        "        frames.append(frame)\n",
        "        frame_count += 1\n",
        "    cap.release()\n",
        "    return np.array(frames)\n",
        "\n",
        "# ================================\n",
        "# 3️⃣ PREDICTION\n",
        "# ================================\n",
        "def predict_video(video_path, model):\n",
        "    \"\"\"Predicts whether a video is a deepfake or real.\"\"\"\n",
        "    print(f\"\\n🎬 Analyzing video: {video_path}\")\n",
        "    frames = extract_frames(video_path)\n",
        "    if len(frames) == 0:\n",
        "        return \"Error: No frames extracted!\"\n",
        "    preds = model.predict(frames)\n",
        "    avg_pred = np.mean(preds)\n",
        "    print(f\"Average prediction score: {avg_pred:.3f}\")\n",
        "    return \"🧠 Deepfake Detected 😈\" if avg_pred > 0.5 else \"✅ Real Video Detected\"\n",
        "\n",
        "# ================================\n",
        "# 4️⃣ MAIN FUNCTION\n",
        "# ================================\n",
        "if __name__ == \"__main__\":\n",
        "    video_file = \"test_video.mp4\"  # Replace with your video path\n",
        "    model = load_trained_model()\n",
        "    result = predict_video(video_file, model)\n",
        "    print(f\"\\nFinal Verdict: {result}\")\n"
      ]
    }
  ]
}